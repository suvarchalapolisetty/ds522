{
  "nbformat": 4,
  "nbformat_minor": 0,
  "metadata": {
    "colab": {
      "provenance": [],
      "collapsed_sections": []
    },
    "kernelspec": {
      "name": "python3",
      "display_name": "Python 3"
    },
    "language_info": {
      "name": "python"
    }
  },
  "cells": [
    {
      "cell_type": "code",
      "execution_count": 2,
      "metadata": {
        "id": "WkNOYuwAb4r9"
      },
      "outputs": [],
      "source": [
        "Datascience = \"Hello batch DS0522 Welcome to project Phase\""
      ]
    },
    {
      "cell_type": "code",
      "source": [
        "Datascience"
      ],
      "metadata": {
        "colab": {
          "base_uri": "https://localhost:8080/",
          "height": 35
        },
        "id": "uTfD61j3dQXE",
        "outputId": "726850e2-a35e-44f5-f133-d4cd142fe02c"
      },
      "execution_count": 5,
      "outputs": [
        {
          "output_type": "execute_result",
          "data": {
            "text/plain": [
              "'Hello batch DS0522 Welcome to project Phase'"
            ],
            "application/vnd.google.colaboratory.intrinsic+json": {
              "type": "string"
            }
          },
          "metadata": {},
          "execution_count": 5
        }
      ]
    },
    {
      "cell_type": "code",
      "source": [],
      "metadata": {
        "id": "wiHveXEPdStV"
      },
      "execution_count": null,
      "outputs": []
    }
  ]
}